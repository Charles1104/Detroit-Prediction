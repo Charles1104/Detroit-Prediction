{
 "cells": [
  {
   "cell_type": "code",
   "execution_count": 116,
   "metadata": {},
   "outputs": [
    {
     "data": {
      "text/plain": [
       "(250306, 34)"
      ]
     },
     "execution_count": 116,
     "metadata": {},
     "output_type": "execute_result"
    }
   ],
   "source": [
    "import pandas as pd\n",
    "import numpy as np\n",
    "from datetime import datetime\n",
    "from math import radians, cos, sin, asin, sqrt\n",
    "\n",
    "# import de data set\n",
    "df_01 = pd.read_csv('datasets/train.csv', delimiter = ',', encoding = 'latin-1', low_memory = False)\n",
    "df_01.shape"
   ]
  },
  {
   "cell_type": "code",
   "execution_count": 178,
   "metadata": {},
   "outputs": [
    {
     "data": {
      "text/plain": [
       "0    0.0\n",
       "1    0.0\n",
       "2    0.0\n",
       "4    0.0\n",
       "5    0.0\n",
       "Name: discount_amount, dtype: float64"
      ]
     },
     "execution_count": 178,
     "metadata": {},
     "output_type": "execute_result"
    }
   ],
   "source": [
    "df_06['discount_amount'].head()"
   ]
  },
  {
   "cell_type": "code",
   "execution_count": 117,
   "metadata": {},
   "outputs": [
    {
     "name": "stdout",
     "output_type": "stream",
     "text": [
      "<class 'pandas.core.frame.DataFrame'>\n",
      "RangeIndex: 250306 entries, 0 to 250305\n",
      "Data columns (total 34 columns):\n",
      "ticket_id                     250306 non-null int64\n",
      "agency_name                   250306 non-null object\n",
      "inspector_name                250306 non-null object\n",
      "violator_name                 250272 non-null object\n",
      "violation_street_number       250306 non-null float64\n",
      "violation_street_name         250306 non-null object\n",
      "violation_zip_code            0 non-null float64\n",
      "mailing_address_str_number    246704 non-null float64\n",
      "mailing_address_str_name      250302 non-null object\n",
      "city                          250306 non-null object\n",
      "state                         250213 non-null object\n",
      "zip_code                      250305 non-null object\n",
      "non_us_str_code               3 non-null object\n",
      "country                       250306 non-null object\n",
      "ticket_issued_date            250306 non-null object\n",
      "hearing_date                  237815 non-null object\n",
      "violation_code                250306 non-null object\n",
      "violation_description         250306 non-null object\n",
      "disposition                   250306 non-null object\n",
      "fine_amount                   250305 non-null float64\n",
      "admin_fee                     250306 non-null float64\n",
      "state_fee                     250306 non-null float64\n",
      "late_fee                      250306 non-null float64\n",
      "discount_amount               250306 non-null float64\n",
      "clean_up_cost                 250306 non-null float64\n",
      "judgment_amount               250306 non-null float64\n",
      "payment_amount                250306 non-null float64\n",
      "balance_due                   250306 non-null float64\n",
      "payment_date                  41113 non-null object\n",
      "payment_status                250306 non-null object\n",
      "collection_status             36897 non-null object\n",
      "grafitti_status               1 non-null object\n",
      "compliance_detail             250306 non-null object\n",
      "compliance                    159880 non-null float64\n",
      "dtypes: float64(13), int64(1), object(20)\n",
      "memory usage: 64.9+ MB\n"
     ]
    }
   ],
   "source": [
    "df_01.info()"
   ]
  },
  {
   "cell_type": "markdown",
   "metadata": {},
   "source": [
    "We can see that the dataset contains 250306 samples in total but it has only 159880 samples for\n",
    "the target value. We will have to remove all the samples with a null value during cleaning.\n",
    "We can also notice that the features \"violaton_zip_code\", \"non_us_str_code\", \"grafitti_status\" and \"collection_status\" have a lot of missing values and will therefore also be removed."
   ]
  },
  {
   "cell_type": "code",
   "execution_count": 118,
   "metadata": {},
   "outputs": [],
   "source": [
    "df_01 = df_01.drop(['violation_zip_code','non_us_str_code','grafitti_status'], 1)"
   ]
  },
  {
   "cell_type": "code",
   "execution_count": 119,
   "metadata": {},
   "outputs": [
    {
     "name": "stdout",
     "output_type": "stream",
     "text": [
      "<class 'pandas.core.frame.DataFrame'>\n",
      "RangeIndex: 61001 entries, 0 to 61000\n",
      "Data columns (total 27 columns):\n",
      "ticket_id                     61001 non-null int64\n",
      "agency_name                   61001 non-null object\n",
      "inspector_name                61001 non-null object\n",
      "violator_name                 60973 non-null object\n",
      "violation_street_number       61001 non-null float64\n",
      "violation_street_name         61001 non-null object\n",
      "violation_zip_code            24024 non-null object\n",
      "mailing_address_str_number    59987 non-null object\n",
      "mailing_address_str_name      60998 non-null object\n",
      "city                          61000 non-null object\n",
      "state                         60670 non-null object\n",
      "zip_code                      60998 non-null object\n",
      "non_us_str_code               0 non-null float64\n",
      "country                       61001 non-null object\n",
      "ticket_issued_date            61001 non-null object\n",
      "hearing_date                  58804 non-null object\n",
      "violation_code                61001 non-null object\n",
      "violation_description         61001 non-null object\n",
      "disposition                   61001 non-null object\n",
      "fine_amount                   61001 non-null float64\n",
      "admin_fee                     61001 non-null float64\n",
      "state_fee                     61001 non-null float64\n",
      "late_fee                      61001 non-null float64\n",
      "discount_amount               61001 non-null float64\n",
      "clean_up_cost                 61001 non-null float64\n",
      "judgment_amount               61001 non-null float64\n",
      "grafitti_status               2221 non-null object\n",
      "dtypes: float64(9), int64(1), object(17)\n",
      "memory usage: 12.6+ MB\n"
     ]
    }
   ],
   "source": [
    "test_data = pd.read_csv('datasets/test.csv')\n",
    "test_data.info()"
   ]
  },
  {
   "cell_type": "code",
   "execution_count": 122,
   "metadata": {},
   "outputs": [
    {
     "data": {
      "text/plain": [
       "['compliance']"
      ]
     },
     "execution_count": 122,
     "metadata": {},
     "output_type": "execute_result"
    }
   ],
   "source": [
    "#colums not in common\n",
    "col_diff = [x for x in df_01.columns if x not in test_data.columns]\n",
    "col_diff"
   ]
  },
  {
   "cell_type": "code",
   "execution_count": 121,
   "metadata": {},
   "outputs": [],
   "source": [
    "#We need to remove from the training set the columns that are not present in the test set (except target)\n",
    "df_01 = df_01.drop(['payment_amount','balance_due','payment_date','payment_status','collection_status',\n",
    "                    'compliance_detail'], 1)"
   ]
  },
  {
   "cell_type": "code",
   "execution_count": 123,
   "metadata": {},
   "outputs": [
    {
     "data": {
      "text/plain": [
       "311307"
      ]
     },
     "execution_count": 123,
     "metadata": {},
     "output_type": "execute_result"
    }
   ],
   "source": [
    "len(df_01)+len(test_data)"
   ]
  },
  {
   "cell_type": "code",
   "execution_count": 124,
   "metadata": {},
   "outputs": [
    {
     "data": {
      "text/plain": [
       "311307"
      ]
     },
     "execution_count": 124,
     "metadata": {},
     "output_type": "execute_result"
    }
   ],
   "source": [
    "addresses = pd.read_csv('datasets/addresses.csv', delimiter = ',', encoding = 'latin-1')\n",
    "len(addresses)"
   ]
  },
  {
   "cell_type": "code",
   "execution_count": 125,
   "metadata": {},
   "outputs": [
    {
     "data": {
      "text/html": [
       "<div>\n",
       "<style>\n",
       "    .dataframe thead tr:only-child th {\n",
       "        text-align: right;\n",
       "    }\n",
       "\n",
       "    .dataframe thead th {\n",
       "        text-align: left;\n",
       "    }\n",
       "\n",
       "    .dataframe tbody tr th {\n",
       "        vertical-align: top;\n",
       "    }\n",
       "</style>\n",
       "<table border=\"1\" class=\"dataframe\">\n",
       "  <thead>\n",
       "    <tr style=\"text-align: right;\">\n",
       "      <th></th>\n",
       "      <th>ticket_id</th>\n",
       "      <th>address</th>\n",
       "    </tr>\n",
       "  </thead>\n",
       "  <tbody>\n",
       "    <tr>\n",
       "      <th>0</th>\n",
       "      <td>22056</td>\n",
       "      <td>2900 tyler, Detroit MI</td>\n",
       "    </tr>\n",
       "    <tr>\n",
       "      <th>1</th>\n",
       "      <td>27586</td>\n",
       "      <td>4311 central, Detroit MI</td>\n",
       "    </tr>\n",
       "    <tr>\n",
       "      <th>2</th>\n",
       "      <td>22062</td>\n",
       "      <td>1449 longfellow, Detroit MI</td>\n",
       "    </tr>\n",
       "    <tr>\n",
       "      <th>3</th>\n",
       "      <td>22084</td>\n",
       "      <td>1441 longfellow, Detroit MI</td>\n",
       "    </tr>\n",
       "    <tr>\n",
       "      <th>4</th>\n",
       "      <td>22093</td>\n",
       "      <td>2449 churchill, Detroit MI</td>\n",
       "    </tr>\n",
       "  </tbody>\n",
       "</table>\n",
       "</div>"
      ],
      "text/plain": [
       "   ticket_id                      address\n",
       "0      22056       2900 tyler, Detroit MI\n",
       "1      27586     4311 central, Detroit MI\n",
       "2      22062  1449 longfellow, Detroit MI\n",
       "3      22084  1441 longfellow, Detroit MI\n",
       "4      22093   2449 churchill, Detroit MI"
      ]
     },
     "execution_count": 125,
     "metadata": {},
     "output_type": "execute_result"
    }
   ],
   "source": [
    "addresses.head()"
   ]
  },
  {
   "cell_type": "code",
   "execution_count": 126,
   "metadata": {},
   "outputs": [
    {
     "data": {
      "text/plain": [
       "54779"
      ]
     },
     "execution_count": 126,
     "metadata": {},
     "output_type": "execute_result"
    }
   ],
   "source": [
    "unique_adresses = addresses.drop_duplicates(subset=['address'], keep=False)\n",
    "len(unique_adresses)"
   ]
  },
  {
   "cell_type": "code",
   "execution_count": 127,
   "metadata": {},
   "outputs": [
    {
     "data": {
      "text/plain": [
       "121769"
      ]
     },
     "execution_count": 127,
     "metadata": {},
     "output_type": "execute_result"
    }
   ],
   "source": [
    "latlons = pd.read_csv('datasets/latlons.csv', delimiter = ',', encoding = 'latin-1')\n",
    "len(latlons)"
   ]
  },
  {
   "cell_type": "code",
   "execution_count": 128,
   "metadata": {},
   "outputs": [
    {
     "data": {
      "text/html": [
       "<div>\n",
       "<style>\n",
       "    .dataframe thead tr:only-child th {\n",
       "        text-align: right;\n",
       "    }\n",
       "\n",
       "    .dataframe thead th {\n",
       "        text-align: left;\n",
       "    }\n",
       "\n",
       "    .dataframe tbody tr th {\n",
       "        vertical-align: top;\n",
       "    }\n",
       "</style>\n",
       "<table border=\"1\" class=\"dataframe\">\n",
       "  <thead>\n",
       "    <tr style=\"text-align: right;\">\n",
       "      <th></th>\n",
       "      <th>address</th>\n",
       "      <th>lat</th>\n",
       "      <th>lon</th>\n",
       "    </tr>\n",
       "  </thead>\n",
       "  <tbody>\n",
       "    <tr>\n",
       "      <th>0</th>\n",
       "      <td>4300 rosa parks blvd, Detroit MI 48208</td>\n",
       "      <td>42.346169</td>\n",
       "      <td>-83.079962</td>\n",
       "    </tr>\n",
       "    <tr>\n",
       "      <th>1</th>\n",
       "      <td>14512 sussex, Detroit MI</td>\n",
       "      <td>42.394657</td>\n",
       "      <td>-83.194265</td>\n",
       "    </tr>\n",
       "    <tr>\n",
       "      <th>2</th>\n",
       "      <td>3456 garland, Detroit MI</td>\n",
       "      <td>42.373779</td>\n",
       "      <td>-82.986228</td>\n",
       "    </tr>\n",
       "    <tr>\n",
       "      <th>3</th>\n",
       "      <td>5787 wayburn, Detroit MI</td>\n",
       "      <td>42.403342</td>\n",
       "      <td>-82.957805</td>\n",
       "    </tr>\n",
       "    <tr>\n",
       "      <th>4</th>\n",
       "      <td>5766 haverhill, Detroit MI</td>\n",
       "      <td>42.407255</td>\n",
       "      <td>-82.946295</td>\n",
       "    </tr>\n",
       "  </tbody>\n",
       "</table>\n",
       "</div>"
      ],
      "text/plain": [
       "                                  address        lat        lon\n",
       "0  4300 rosa parks blvd, Detroit MI 48208  42.346169 -83.079962\n",
       "1                14512 sussex, Detroit MI  42.394657 -83.194265\n",
       "2                3456 garland, Detroit MI  42.373779 -82.986228\n",
       "3                5787 wayburn, Detroit MI  42.403342 -82.957805\n",
       "4              5766 haverhill, Detroit MI  42.407255 -82.946295"
      ]
     },
     "execution_count": 128,
     "metadata": {},
     "output_type": "execute_result"
    }
   ],
   "source": [
    "latlons.head()"
   ]
  },
  {
   "cell_type": "code",
   "execution_count": 129,
   "metadata": {},
   "outputs": [
    {
     "data": {
      "text/plain": [
       "((250306, 26), (250306, 28), (159880, 28))"
      ]
     },
     "execution_count": 129,
     "metadata": {},
     "output_type": "execute_result"
    }
   ],
   "source": [
    "# import de external data files and merge them to the data set\n",
    "addresses = pd.read_csv('datasets/addresses.csv', delimiter = ',', encoding = 'latin-1') # 311.307 records\n",
    "latlons = pd.read_csv('datasets/latlons.csv', delimiter = ',', encoding = 'latin-1') # 121.769 records\n",
    "\n",
    "# merge addresses to training dataset, 250.306 records -> every record has a known address\n",
    "df_02 = pd.merge(df_01, addresses, left_on = ['ticket_id'], right_on = ['ticket_id'], how = 'inner')\n",
    "\n",
    "# merge latitudes and longitudes to training dataset, 250.306 records -> every record has a latitude and\n",
    "# longitude but possibly the wrong ones due to a misspelled address\n",
    "df_03 = pd.merge(df_02, latlons, left_on = ['address'], right_on = ['address'], how = 'inner')\n",
    "\n",
    "# remove records where compliance equals 'Null', 159.880 records\n",
    "df_04 = df_03.dropna(subset = ['compliance'])\n",
    "\n",
    "df_02.shape, df_03.shape, df_04.shape"
   ]
  },
  {
   "cell_type": "code",
   "execution_count": 142,
   "metadata": {},
   "outputs": [
    {
     "name": "stdout",
     "output_type": "stream",
     "text": [
      "The number of categories of violation_description is reduced from 207 to 98\n",
      "The number of categories of agency_name is reduced from 5 to 5\n",
      "The number of categories of disposition is reduced from 4 to 4\n",
      "The number of categories of state is reduced from 60 to 50\n"
     ]
    }
   ],
   "source": [
    "# make all codes with less than 10 occurrences null in order not to end up with to many dummies later\n",
    "df_05 = df_04.copy()\n",
    "\n",
    "features_to_reduce = ['violation_description', 'agency_name', 'disposition', 'state']\n",
    "    \n",
    "for feature in features_to_reduce:\n",
    "    number_categories_before = df_05[feature].value_counts(dropna = False).to_frame().shape[0]\n",
    "    counts = df_05[feature].value_counts()\n",
    "    df_05.loc[df_05[feature].isin(counts[counts < 10].to_frame().reset_index()['index']), feature] = np.nan\n",
    "    number_categories_after = df_05[feature].value_counts(dropna = False).to_frame().shape[0]\n",
    "    \n",
    "    print('The number of categories of', feature, 'is reduced from', number_categories_before, 'to', number_categories_after)"
   ]
  },
  {
   "cell_type": "code",
   "execution_count": 143,
   "metadata": {},
   "outputs": [],
   "source": [
    "# create a new feature: the gap in days between the date the ticket has been issued and the hearing date\n",
    "def time_gap(input1, input2):\n",
    "    if not input1 or type(input1) != str: return np.nan\n",
    "    date1 = datetime.strptime(input1, \"%Y-%m-%d %H:%M:%S\")\n",
    "    date2 = datetime.strptime(input2, \"%Y-%m-%d %H:%M:%S\")\n",
    "    difference = date1 - date2\n",
    "    return difference.days\n",
    "    \n",
    "df_05['time_gap'] = df_05.apply(lambda row: time_gap(row['hearing_date'], row['ticket_issued_date']), axis = 1).astype(np.float64)"
   ]
  },
  {
   "cell_type": "markdown",
   "metadata": {},
   "source": [
    "A gap up to 100 days seems realistic, however negative gaps (the ticket has been issued after the hearing data) and\n",
    "very large gaps of over 365 (one year) seem incorrect. These 'outliers' or errors in the data will be replace by the average.\n"
   ]
  },
  {
   "cell_type": "code",
   "execution_count": 144,
   "metadata": {},
   "outputs": [
    {
     "data": {
      "text/plain": [
       "453"
      ]
     },
     "execution_count": 144,
     "metadata": {},
     "output_type": "execute_result"
    }
   ],
   "source": [
    "# first we will check how many records contain such gaps\n",
    "df_05[(df_05['time_gap'] < 0) | (df_05['time_gap'] > 365)]['time_gap'].count()"
   ]
  },
  {
   "cell_type": "code",
   "execution_count": 145,
   "metadata": {
    "collapsed": true
   },
   "outputs": [],
   "source": [
    "df_06 = df_05.copy()\n",
    "# let's replace these values and the missings already in the dataframe by the average timegap of the non-missings\n",
    "df_06.loc[(df_06['time_gap'] < 0) | (df_06['time_gap'] > 365), 'time_gap'] = np.nan\n",
    "\n",
    "mean_time_gap = df_06['time_gap'].mean()\n",
    "df_06['time_gap'].fillna(mean_time_gap, inplace = True)"
   ]
  },
  {
   "cell_type": "code",
   "execution_count": 146,
   "metadata": {},
   "outputs": [
    {
     "data": {
      "image/png": "[encoded data removed]",
      "text/plain": [
       "<matplotlib.figure.Figure at 0x7f5a29377710>"
      ]
     },
     "metadata": {},
     "output_type": "display_data"
    }
   ],
   "source": [
    "import matplotlib.pyplot as plt\n",
    "import seaborn as sns\n",
    "\n",
    "sns.set_style('darkgrid')\n",
    "\n",
    "plt.figure(figsize = (20, 10))\n",
    "\n",
    "p = sns.violinplot(data = df_06, x = 'compliance', y = 'time_gap')\n",
    "p.set_title('time gap distribution by compliance', fontsize = 20)\n",
    "p.set_xlabel('compliance', fontsize = 15)\n",
    "p.set_ylabel('time gap distribution', fontsize = 15) \n",
    "p.set_xticklabels(['not paid', 'paid'], fontsize = 12)\n",
    "\n",
    "plt.show()"
   ]
  },
  {
   "cell_type": "code",
   "execution_count": 159,
   "metadata": {
    "collapsed": true
   },
   "outputs": [],
   "source": [
    "# impute missing values in lat with the average, lon with the average and state with a 'new state' (as in 'other')\n",
    "mean_lat = df_06['lat'].mean()\n",
    "mean_lon = df_06['lon'].mean()\n",
    "\n",
    "df_06['lat'].fillna(mean_lat, inplace = True)\n",
    "df_06['lon'].fillna(mean_lon, inplace = True)\n",
    "df_06['state'].fillna('ZZ', inplace = True)"
   ]
  },
  {
   "cell_type": "code",
   "execution_count": 160,
   "metadata": {
    "collapsed": true
   },
   "outputs": [],
   "source": [
    "# create the distance of every address to the city of Detroit    \n",
    "def haversine(lon1, lat1, lon2, lat2):\n",
    "\n",
    "    # convert decimal degrees to radians\n",
    "    lon1, lat1, lon2, lat2 = map(radians, [lon1, lat1, lon2, lat2])\n",
    "    \n",
    "    # haversine formula\n",
    "    dlon = lon2 - lon1\n",
    "    dlat = lat2 - lat1\n",
    "    a = sin(dlat/2)**2 + cos(lat1) * cos(lat2) * sin(dlon/2) ** 2\n",
    "    c = 2 * asin(sqrt(a))\n",
    "    r = 6371 # radius of earth in kilometers (use 3956 for miles)\n",
    "    return c * r\n",
    "\n",
    "# longitude and latitude of Detroit are -83.045753 and 42.331429\n",
    "df_06['distance'] = df_06.apply(lambda row: haversine(lon1 = -83.045753,\n",
    "                                                      lat1 = 42.331429,\n",
    "                                                      lon2 = row['lon'],\n",
    "                                                      lat2 = row['lat']), axis = 1)"
   ]
  },
  {
   "cell_type": "code",
   "execution_count": 161,
   "metadata": {},
   "outputs": [
    {
     "data": {
      "text/html": [
       "<div>\n",
       "<style>\n",
       "    .dataframe thead tr:only-child th {\n",
       "        text-align: right;\n",
       "    }\n",
       "\n",
       "    .dataframe thead th {\n",
       "        text-align: left;\n",
       "    }\n",
       "\n",
       "    .dataframe tbody tr th {\n",
       "        vertical-align: top;\n",
       "    }\n",
       "</style>\n",
       "<table border=\"1\" class=\"dataframe\">\n",
       "  <thead>\n",
       "    <tr style=\"text-align: right;\">\n",
       "      <th></th>\n",
       "      <th>count</th>\n",
       "      <th>mean</th>\n",
       "      <th>std</th>\n",
       "      <th>min</th>\n",
       "      <th>25%</th>\n",
       "      <th>50%</th>\n",
       "      <th>75%</th>\n",
       "      <th>max</th>\n",
       "    </tr>\n",
       "    <tr>\n",
       "      <th>compliance</th>\n",
       "      <th></th>\n",
       "      <th></th>\n",
       "      <th></th>\n",
       "      <th></th>\n",
       "      <th></th>\n",
       "      <th></th>\n",
       "      <th></th>\n",
       "      <th></th>\n",
       "    </tr>\n",
       "  </thead>\n",
       "  <tbody>\n",
       "    <tr>\n",
       "      <th>0.0</th>\n",
       "      <td>148283.0</td>\n",
       "      <td>11.364780</td>\n",
       "      <td>4.296246</td>\n",
       "      <td>0.036816</td>\n",
       "      <td>8.432334</td>\n",
       "      <td>11.47135</td>\n",
       "      <td>13.964312</td>\n",
       "      <td>275.624714</td>\n",
       "    </tr>\n",
       "    <tr>\n",
       "      <th>1.0</th>\n",
       "      <td>11597.0</td>\n",
       "      <td>11.095243</td>\n",
       "      <td>4.536442</td>\n",
       "      <td>0.084815</td>\n",
       "      <td>7.711914</td>\n",
       "      <td>11.42643</td>\n",
       "      <td>13.943130</td>\n",
       "      <td>38.978889</td>\n",
       "    </tr>\n",
       "  </tbody>\n",
       "</table>\n",
       "</div>"
      ],
      "text/plain": [
       "               count       mean       std       min       25%       50%  \\\n",
       "compliance                                                                \n",
       "0.0         148283.0  11.364780  4.296246  0.036816  8.432334  11.47135   \n",
       "1.0          11597.0  11.095243  4.536442  0.084815  7.711914  11.42643   \n",
       "\n",
       "                  75%         max  \n",
       "compliance                         \n",
       "0.0         13.964312  275.624714  \n",
       "1.0         13.943130   38.978889  "
      ]
     },
     "execution_count": 161,
     "metadata": {},
     "output_type": "execute_result"
    }
   ],
   "source": [
    "df_06['distance'].groupby(df_06['compliance']).describe()"
   ]
  },
  {
   "cell_type": "code",
   "execution_count": 162,
   "metadata": {},
   "outputs": [
    {
     "data": {
      "image/png": "[encoded data removed]",
      "text/plain": [
       "<matplotlib.figure.Figure at 0x7f5a2f169ba8>"
      ]
     },
     "metadata": {},
     "output_type": "display_data"
    }
   ],
   "source": [
    "plt.figure(figsize = (20, 10))\n",
    "\n",
    "bp = sns.boxplot(x = 'compliance', y = 'distance', data=df_06)\n",
    "bp.set(ylim = (0, 50))\n",
    "bp.set_title('boxplot of distance by compliance', fontsize = 20)\n",
    "bp.set_xlabel('compliance', fontsize = 15)\n",
    "bp.set_ylabel('distance', fontsize = 15) \n",
    "bp.set_xticklabels(['not paid', 'paid'], fontsize = 12)\n",
    "\n",
    "plt.show()"
   ]
  },
  {
   "cell_type": "code",
   "execution_count": 163,
   "metadata": {
    "collapsed": true
   },
   "outputs": [],
   "source": [
    "# create some additional features\n",
    "df_07 = df_06.copy()\n",
    "\n",
    "df_07.loc[:, 'distance2']          = df_07.loc[:, 'distance'] * df_07.loc[:, 'distance']\n",
    "df_07.loc[:, 'distance_admin_fee'] = df_07.loc[:, 'distance'] * df_07.loc[:, 'admin_fee']\n",
    "df_07.loc[:, 'distance_state_fee'] = df_07.loc[:, 'distance'] * df_07.loc[:, 'state_fee']\n",
    "df_07.loc[:, 'distance_late_fee']  = df_07.loc[:, 'distance'] * df_07.loc[:, 'late_fee']\n",
    "df_07.loc[:, 'distance_discount']  = df_07.loc[:, 'distance'] * df_07.loc[:, 'discount_amount']\n",
    "df_07.loc[:, 'distance_judgment']  = df_07.loc[:, 'distance'] * df_07.loc[:, 'judgment_amount']\n",
    "df_07.loc[:, 'distance_time_gap']  = df_07.loc[:, 'distance'] * df_07.loc[:, 'time_gap']"
   ]
  },
  {
   "cell_type": "code",
   "execution_count": 164,
   "metadata": {
    "collapsed": true
   },
   "outputs": [],
   "source": [
    "# selecting the features\n",
    "feature_names = ['ticket_id', 'violation_description', 'agency_name', 'disposition', 'discount_amount',\n",
    "                 'admin_fee', 'state_fee', 'late_fee', 'judgment_amount', 'state', 'lat', 'lon', 'distance', 'time_gap',\n",
    "                 'distance2', 'distance_admin_fee', 'distance_state_fee', 'distance_late_fee', 'distance_discount',\n",
    "                 'distance_judgment', 'distance_time_gap']\n",
    "\n",
    "x = df_07[feature_names]\n",
    "x = x.set_index('ticket_id')\n",
    "\n",
    "y = df_07['compliance']\n",
    "\n",
    "# recoding the categorical features to numerical ones\n",
    "x['violation_description'] = x['violation_description'].astype('category')\n",
    "violation_description_dict = dict(enumerate(x.violation_description.cat.categories))\n",
    "violation_description_dict2 = {y:x for x,y in violation_description_dict.items()}\n",
    "x['violation_description'] = x['violation_description'].cat.codes\n",
    "mode_violation_description = x['violation_description'].mode()[0]\n",
    "\n",
    "x['agency_name'] = x['agency_name'].astype('category')\n",
    "agency_name_dict = dict(enumerate(x.agency_name.cat.categories))\n",
    "agency_name_dict2 = {y:x for x,y in agency_name_dict.items()}\n",
    "x['agency_name'] = x['agency_name'].cat.codes\n",
    "mode_agency_name = x['agency_name'].mode()[0]\n",
    "\n",
    "x['disposition'] = x['disposition'].astype('category')\n",
    "disposition_dict = dict(enumerate(x.disposition.cat.categories))\n",
    "disposition_dict2 = {y:x for x,y in disposition_dict.items()}\n",
    "x['disposition'] = x['disposition'].cat.codes\n",
    "mode_disposition = x['disposition'].mode()[0]\n",
    "\n",
    "x['state'] = x['state'].astype('category')\n",
    "state_dict = dict(enumerate(x.state.cat.categories))\n",
    "state_dict2 = {y:x for x,y in state_dict.items()}\n",
    "x['state'] = x['state'].cat.codes"
   ]
  },
  {
   "cell_type": "code",
   "execution_count": 165,
   "metadata": {
    "collapsed": true
   },
   "outputs": [],
   "source": [
    "# some of the features are numerical but have no order so it's better to convert them to dummies\n",
    "feature_to_be_splitted = ['violation_description', 'agency_name', 'disposition', 'state']\n",
    "    \n",
    "x = pd.get_dummies(x, columns = feature_to_be_splitted)"
   ]
  },
  {
   "cell_type": "code",
   "execution_count": 166,
   "metadata": {},
   "outputs": [
    {
     "data": {
      "text/html": [
       "<div>\n",
       "<style>\n",
       "    .dataframe thead tr:only-child th {\n",
       "        text-align: right;\n",
       "    }\n",
       "\n",
       "    .dataframe thead th {\n",
       "        text-align: left;\n",
       "    }\n",
       "\n",
       "    .dataframe tbody tr th {\n",
       "        vertical-align: top;\n",
       "    }\n",
       "</style>\n",
       "<table border=\"1\" class=\"dataframe\">\n",
       "  <thead>\n",
       "    <tr style=\"text-align: right;\">\n",
       "      <th></th>\n",
       "      <th>Feature1</th>\n",
       "      <th>Feature2</th>\n",
       "      <th>Correlation</th>\n",
       "    </tr>\n",
       "  </thead>\n",
       "  <tbody>\n",
       "    <tr>\n",
       "      <th>2090</th>\n",
       "      <td>distance_late_fee</td>\n",
       "      <td>distance_judgment</td>\n",
       "      <td>0.989240</td>\n",
       "    </tr>\n",
       "    <tr>\n",
       "      <th>2434</th>\n",
       "      <td>distance_judgment</td>\n",
       "      <td>distance_late_fee</td>\n",
       "      <td>0.989240</td>\n",
       "    </tr>\n",
       "    <tr>\n",
       "      <th>523</th>\n",
       "      <td>late_fee</td>\n",
       "      <td>judgment_amount</td>\n",
       "      <td>0.989070</td>\n",
       "    </tr>\n",
       "    <tr>\n",
       "      <th>695</th>\n",
       "      <td>judgment_amount</td>\n",
       "      <td>late_fee</td>\n",
       "      <td>0.989070</td>\n",
       "    </tr>\n",
       "    <tr>\n",
       "      <th>531</th>\n",
       "      <td>late_fee</td>\n",
       "      <td>distance_late_fee</td>\n",
       "      <td>0.940410</td>\n",
       "    </tr>\n",
       "    <tr>\n",
       "      <th>2079</th>\n",
       "      <td>distance_late_fee</td>\n",
       "      <td>late_fee</td>\n",
       "      <td>0.940410</td>\n",
       "    </tr>\n",
       "    <tr>\n",
       "      <th>13</th>\n",
       "      <td>discount_amount</td>\n",
       "      <td>distance_discount</td>\n",
       "      <td>0.938221</td>\n",
       "    </tr>\n",
       "    <tr>\n",
       "      <th>2249</th>\n",
       "      <td>distance_discount</td>\n",
       "      <td>discount_amount</td>\n",
       "      <td>0.938221</td>\n",
       "    </tr>\n",
       "    <tr>\n",
       "      <th>706</th>\n",
       "      <td>judgment_amount</td>\n",
       "      <td>distance_judgment</td>\n",
       "      <td>0.936776</td>\n",
       "    </tr>\n",
       "    <tr>\n",
       "      <th>2426</th>\n",
       "      <td>distance_judgment</td>\n",
       "      <td>judgment_amount</td>\n",
       "      <td>0.936776</td>\n",
       "    </tr>\n",
       "    <tr>\n",
       "      <th>704</th>\n",
       "      <td>judgment_amount</td>\n",
       "      <td>distance_late_fee</td>\n",
       "      <td>0.930878</td>\n",
       "    </tr>\n",
       "    <tr>\n",
       "      <th>2080</th>\n",
       "      <td>distance_late_fee</td>\n",
       "      <td>judgment_amount</td>\n",
       "      <td>0.930878</td>\n",
       "    </tr>\n",
       "    <tr>\n",
       "      <th>533</th>\n",
       "      <td>late_fee</td>\n",
       "      <td>distance_judgment</td>\n",
       "      <td>0.926355</td>\n",
       "    </tr>\n",
       "    <tr>\n",
       "      <th>2425</th>\n",
       "      <td>distance_judgment</td>\n",
       "      <td>late_fee</td>\n",
       "      <td>0.926355</td>\n",
       "    </tr>\n",
       "  </tbody>\n",
       "</table>\n",
       "</div>"
      ],
      "text/plain": [
       "               Feature1           Feature2  Correlation\n",
       "2090  distance_late_fee  distance_judgment     0.989240\n",
       "2434  distance_judgment  distance_late_fee     0.989240\n",
       "523            late_fee    judgment_amount     0.989070\n",
       "695     judgment_amount           late_fee     0.989070\n",
       "531            late_fee  distance_late_fee     0.940410\n",
       "2079  distance_late_fee           late_fee     0.940410\n",
       "13      discount_amount  distance_discount     0.938221\n",
       "2249  distance_discount    discount_amount     0.938221\n",
       "706     judgment_amount  distance_judgment     0.936776\n",
       "2426  distance_judgment    judgment_amount     0.936776\n",
       "704     judgment_amount  distance_late_fee     0.930878\n",
       "2080  distance_late_fee    judgment_amount     0.930878\n",
       "533            late_fee  distance_judgment     0.926355\n",
       "2425  distance_judgment           late_fee     0.926355"
      ]
     },
     "execution_count": 166,
     "metadata": {},
     "output_type": "execute_result"
    }
   ],
   "source": [
    "corr = x.corr().abs()\n",
    "s = corr.unstack().to_frame().reset_index()\n",
    "s.columns = ['Feature1', 'Feature2', 'Correlation']\n",
    "s[(s['Correlation'] > 0.9) & (s['Correlation'] <= 0.99)].sort_values('Correlation', ascending = False)"
   ]
  },
  {
   "cell_type": "code",
   "execution_count": 167,
   "metadata": {
    "collapsed": true
   },
   "outputs": [],
   "source": [
    "# remove some features that cause multicollinearity\n",
    "#   - distance_judgment\n",
    "#   - late_fee\n",
    "#   - discount_amount\n",
    "\n",
    "multicollinearity = ['distance_judgment', 'late_fee', 'discount_amount']\n",
    "\n",
    "features_no_multi = [feature for feature in x.columns if feature not in multicollinearity]\n",
    "x_no_multi = x[features_no_multi]"
   ]
  },
  {
   "cell_type": "code",
   "execution_count": 168,
   "metadata": {},
   "outputs": [
    {
     "data": {
      "image/png": "[encoded data removed]",
      "text/plain": [
       "<matplotlib.figure.Figure at 0x7f5a2f14ed68>"
      ]
     },
     "metadata": {},
     "output_type": "display_data"
    }
   ],
   "source": [
    "from sklearn.ensemble import GradientBoostingClassifier\n",
    "from matplotlib import pyplot as plt\n",
    "\n",
    "clf = GradientBoostingClassifier(random_state = 0).fit(x_no_multi, y)\n",
    "\n",
    "features = []\n",
    "\n",
    "for feature, importance in zip(x_no_multi.columns, clf.feature_importances_):\n",
    "    features.append((importance, feature))\n",
    "\n",
    "features.sort(reverse = True)\n",
    "features_relevant = [x_no_multi[1] for x_no_multi in features if x_no_multi[0] > 0]\n",
    "\n",
    "features = pd.DataFrame()\n",
    "\n",
    "features['feature'] = x_no_multi.columns\n",
    "features['importance'] = clf.feature_importances_\n",
    "\n",
    "features.sort_values(by = ['importance'], ascending = True, inplace = True)\n",
    "features.set_index('feature', inplace = True)\n",
    "\n",
    "# plot the 'top 15' features\n",
    "features[:-16:-1].plot(kind = 'barh', figsize = (20, 15), legend = None)\n",
    "plt.tick_params(axis = 'both', which = 'major', labelsize = 14)\n",
    "plt.show()"
   ]
  },
  {
   "cell_type": "code",
   "execution_count": 185,
   "metadata": {},
   "outputs": [],
   "source": [
    "# apply the same transformations as done on the training data\n",
    "test_data_02 = pd.merge(test_data, addresses, left_on = ['ticket_id'], right_on = ['ticket_id'], how = 'inner')\n",
    "test_data_03 = pd.merge(test_data_02, latlons, left_on = ['address'], right_on = ['address'], how = 'inner')\n",
    "    \n",
    "for feature in features_to_reduce:\n",
    "    number_categories_before = test_data_03[feature].value_counts(dropna = False).to_frame().shape[0]\n",
    "    counts = test_data_03[feature].value_counts()\n",
    "    test_data_03.loc[test_data_03[feature].isin(counts[counts < 10].to_frame().reset_index()['index']), feature] = np.nan\n",
    "    number_categories_after = test_data_03[feature].value_counts(dropna = False).to_frame().shape[0]\n",
    "\n",
    "test_data_03['time_gap'] = test_data_03.apply(lambda row: time_gap(row['hearing_date'], \n",
    "                                                                   row['ticket_issued_date']), axis = 1).astype(np.float64)\n",
    "test_data_03['time_gap'] = np.where((test_data_03['time_gap'] < 0) | \n",
    "                                    (test_data_03['time_gap'] > 365), np.nan, test_data_03['time_gap'])\n",
    "test_data_03['time_gap'].fillna(mean_time_gap, inplace = True)\n",
    "\n",
    "test_data_03['lat'].fillna(mean_lat, inplace = True)\n",
    "test_data_03['lon'].fillna(mean_lon, inplace = True)\n",
    "test_data_03['state'].fillna('ZZ', inplace = True)\n",
    "\n",
    "test_data_03['distance'] = test_data_03.apply(lambda row: \n",
    "                                          haversine(lon1 = -83.045753, lat1 = 42.331429, lon2 = row['lon'], lat2 = row['lat']), axis = 1)\n",
    "\n",
    "test_data_03['distance2'] = test_data_03['distance'] * test_data_03['distance']\n",
    "test_data_03['distance_admin_fee'] = test_data_03['distance'] * test_data_03['admin_fee']\n",
    "test_data_03['distance_state_fee'] = test_data_03['distance'] * test_data_03['state_fee']\n",
    "test_data_03['distance_late_fee'] = test_data_03['distance'] * test_data_03['late_fee']\n",
    "test_data_03['distance_discount'] = test_data_03['distance'] * test_data_03['discount_amount']\n",
    "test_data_03['distance_judgment'] = test_data_03['distance'] * test_data_03['judgment_amount']\n",
    "test_data_03['distance_time_gap'] = test_data_03['distance'] * test_data_03['time_gap']\n",
    "\n",
    "test_data_03['violation_description'] = test_data_03['violation_description'].map(violation_description_dict2)\n",
    "test_data_03['violation_description'].fillna(mode_violation_description, inplace = True)\n",
    "test_data_03['violation_description'] = test_data_03['violation_description'].astype(np.int8)\n",
    "\n",
    "test_data_03['agency_name'] = test_data_03['agency_name'].map(agency_name_dict2)\n",
    "test_data_03['agency_name'].fillna(mode_agency_name, inplace = True)\n",
    "test_data_03['agency_name'] = test_data_03['agency_name'].astype(np.int8)\n",
    "\n",
    "test_data_03['disposition'] = test_data_03['disposition'].map(disposition_dict2)\n",
    "test_data_03['disposition'].fillna(mode_disposition, inplace = True)\n",
    "test_data_03['disposition'] = test_data_03['disposition'].astype(np.int8)\n",
    "\n",
    "test_data_03['state'] = test_data_03['state'].map(state_dict2)\n",
    "test_data_03['state'].fillna(49, inplace = True)\n",
    "test_data_03['state'] = test_data_03['state'].astype(np.int8)\n",
    "\n",
    "test_data_03 = pd.get_dummies(test_data_03, columns = feature_to_be_splitted)\n",
    "\n",
    "test_data_03 = test_data_03.set_index('ticket_id')"
   ]
  },
  {
   "cell_type": "code",
   "execution_count": 188,
   "metadata": {},
   "outputs": [],
   "source": [
    "# make sure the algorithm is not being trained on features not available in the test set\n",
    "train_features = x_no_multi[features_relevant].columns\n",
    "train_features_set = set(train_features)\n",
    "    \n",
    "for feature in set(train_features):\n",
    "    if feature not in test_data_03:\n",
    "        train_features_set.remove(feature)\n",
    "train_features = list(train_features_set)\n",
    "    \n",
    "x_input = x[train_features]\n",
    "test_data_03 = test_data_03[train_features]"
   ]
  },
  {
   "cell_type": "code",
   "execution_count": 193,
   "metadata": {},
   "outputs": [
    {
     "data": {
      "text/plain": [
       "((159880, 53), (61001, 53))"
      ]
     },
     "execution_count": 193,
     "metadata": {},
     "output_type": "execute_result"
    }
   ],
   "source": [
    "x_input.shape, test_data_03.shape"
   ]
  },
  {
   "cell_type": "code",
   "execution_count": 194,
   "metadata": {},
   "outputs": [
    {
     "name": "stdout",
     "output_type": "stream",
     "text": [
      "ROC for training set:  0.824\n",
      "ROC for the validation set:  0.814\n"
     ]
    }
   ],
   "source": [
    "from sklearn.ensemble import GradientBoostingClassifier\n",
    "from sklearn.model_selection import train_test_split\n",
    "from sklearn.metrics import roc_auc_score\n",
    "\n",
    "x_train, x_val, y_train, y_val = train_test_split(x_input, y, random_state = 0)\n",
    "\n",
    "clf = GradientBoostingClassifier(learning_rate = 0.03, max_depth = 5, random_state = 0).fit(x_train, y_train)\n",
    "\n",
    "# area under the curve (AUC) score for training dataset\n",
    "y_train_score = clf.predict_proba(x_train)[:,1]\n",
    "roc_auc_train = roc_auc_score(y_train, y_train_score)\n",
    "    \n",
    "# area under the curve (AUC) score for test dataset\n",
    "y_val_score = clf.predict_proba(x_val)[:,1]\n",
    "roc_auc_val = roc_auc_score(y_val, y_val_score)\n",
    "\n",
    "print('ROC for training set: ', \"{0:.3f}\".format(roc_auc_train))\n",
    "print('ROC for the validation set: ', \"{0:.3f}\".format(roc_auc_val))"
   ]
  },
  {
   "cell_type": "code",
   "execution_count": 195,
   "metadata": {},
   "outputs": [
    {
     "data": {
      "image/png": "[encoded data removed]",
      "text/plain": [
       "<matplotlib.figure.Figure at 0x7f59f03361d0>"
      ]
     },
     "metadata": {},
     "output_type": "display_data"
    }
   ],
   "source": [
    "# plot the ROC-curve\n",
    "from sklearn.metrics import roc_curve, auc\n",
    "\n",
    "fpr, tpr, threshold = roc_curve(y_val, y_val_score)\n",
    "roc_auc = auc(fpr, tpr)\n",
    "\n",
    "plt.figure(figsize = (10, 10))\n",
    "\n",
    "ax = plt.gca()\n",
    "\n",
    "plt.title('ROC-curve', fontsize = 14)\n",
    "plt.plot(fpr, tpr, color = 'darkorange', lw = 0.75, label = 'AUC of the validation set = %0.3f' % roc_auc)\n",
    "plt.legend(loc = 'lower right')\n",
    "plt.plot([0, 1], [0, 1], color = 'navy', lw = 0.75, linestyle = '--')\n",
    "\n",
    "xticks_major = np.round(np.linspace(0, 1, 11), 1)\n",
    "xticks_major_str = (xticks_major).astype(str).tolist()\n",
    "xticks_labels = [x for x in xticks_major_str]\n",
    "\n",
    "yticks_major = np.round(np.linspace(0, 1, 11), 1)\n",
    "yticks_major_str = (yticks_major).astype(str).tolist()\n",
    "yticks_labels = [x for x in yticks_major_str]\n",
    "\n",
    "ax.set_xlim([0, 1])\n",
    "ax.set_ylim([0, 1])\n",
    "ax.set_xticks(xticks_major)\n",
    "ax.set_xticklabels(xticks_labels, fontsize = 10)\n",
    "ax.set_yticks(yticks_major)\n",
    "ax.set_yticklabels(yticks_labels, fontsize = 10)\n",
    "\n",
    "plt.ylabel('True Positive Rate', fontsize = 12)\n",
    "plt.xlabel('False Positive Rate', fontsize = 12)\n",
    "plt.show()"
   ]
  },
  {
   "cell_type": "code",
   "execution_count": 198,
   "metadata": {},
   "outputs": [
    {
     "data": {
      "text/plain": [
       "ticket_id\n",
       "284932    0.068401\n",
       "285362    0.021421\n",
       "285361    0.047902\n",
       "285338    0.065524\n",
       "285346    0.075429\n",
       "Name: compliance, dtype: float32"
      ]
     },
     "execution_count": 198,
     "metadata": {},
     "output_type": "execute_result"
    }
   ],
   "source": [
    "# the final predictions for the test set\n",
    "prediction_proba = clf.predict_proba(test_data_03)[:,1]\n",
    "test_data_03['compliance'] = prediction_proba.astype(np.float32)\n",
    "test_data_03.compliance.head()"
   ]
  },
  {
   "cell_type": "code",
   "execution_count": 269,
   "metadata": {},
   "outputs": [],
   "source": [
    "from keras.models import Sequential\n",
    "from keras.layers import Dense, Dropout, Activation\n",
    "from keras.layers import Embedding\n",
    "from keras.layers import LSTM\n",
    "import tensorflow as tf"
   ]
  },
  {
   "cell_type": "code",
   "execution_count": 264,
   "metadata": {},
   "outputs": [],
   "source": [
    "model = Sequential()\n",
    "model.add(Dense(64, input_dim=53))\n",
    "model.add(Activation('relu'))\n",
    "model.add(Dense(64))\n",
    "model.add(Activation('relu'))\n",
    "model.add(Dense(1, activation='sigmoid'))\n",
    "model.compile(optimizer='rmsprop',\n",
    "              loss='binary_crossentropy',\n",
    "              metrics=['accuracy'])"
   ]
  },
  {
   "cell_type": "code",
   "execution_count": 266,
   "metadata": {},
   "outputs": [
    {
     "name": "stdout",
     "output_type": "stream",
     "text": [
      "Epoch 1/10\n",
      "119910/119910 [==============================] - 5s - loss: 0.2668 - acc: 0.9405     \n",
      "Epoch 2/10\n",
      "119910/119910 [==============================] - 5s - loss: 0.2654 - acc: 0.9408     \n",
      "Epoch 3/10\n",
      "119910/119910 [==============================] - 5s - loss: 0.2561 - acc: 0.9407     \n",
      "Epoch 4/10\n",
      "119910/119910 [==============================] - 5s - loss: 0.2560 - acc: 0.9413     \n",
      "Epoch 5/10\n",
      "119910/119910 [==============================] - 3s - loss: 0.2534 - acc: 0.9418     \n",
      "Epoch 6/10\n",
      "119910/119910 [==============================] - 3s - loss: 0.2391 - acc: 0.9412     \n",
      "Epoch 7/10\n",
      "119910/119910 [==============================] - 3s - loss: 0.2382 - acc: 0.9407     \n",
      "Epoch 8/10\n",
      "119910/119910 [==============================] - 5s - loss: 0.2370 - acc: 0.9415     \n",
      "Epoch 9/10\n",
      "119910/119910 [==============================] - 5s - loss: 0.2394 - acc: 0.9410     \n",
      "Epoch 10/10\n",
      "119910/119910 [==============================] - 5s - loss: 0.2361 - acc: 0.9414     \n"
     ]
    },
    {
     "data": {
      "text/plain": [
       "<keras.callbacks.History at 0x7f59ea6a1320>"
      ]
     },
     "execution_count": 266,
     "metadata": {},
     "output_type": "execute_result"
    }
   ],
   "source": [
    "model.fit(x_train.as_matrix(), y_train.as_matrix(), epochs=10, batch_size=32)"
   ]
  },
  {
   "cell_type": "code",
   "execution_count": 267,
   "metadata": {},
   "outputs": [
    {
     "name": "stdout",
     "output_type": "stream",
     "text": [
      "37088/39970 [==========================>...] - ETA: 0s"
     ]
    }
   ],
   "source": [
    "# area under the curve (AUC) score for training dataset\n",
    "y_train_score_keras = model.predict_proba(x_train.as_matrix())\n",
    "roc_auc_train_keras = roc_auc_score(y_train.as_matrix(), y_train_score_keras.reshape(-1,))\n",
    "    \n",
    "# area under the curve (AUC) score for test dataset\n",
    "y_val_score_keras = model.predict_proba(x_val.as_matrix())\n",
    "roc_auc_val_keras = roc_auc_score(y_val.as_matrix(), y_val_score_keras.reshape(-1,))"
   ]
  },
  {
   "cell_type": "code",
   "execution_count": 268,
   "metadata": {},
   "outputs": [
    {
     "name": "stdout",
     "output_type": "stream",
     "text": [
      "roc_auc_train_keras:  0.77706277287 \n",
      " roc_auc_val_keras:  0.773856702689\n"
     ]
    }
   ],
   "source": [
    "print('roc_auc_train_keras: ',roc_auc_train_keras,'\\n','roc_auc_val_keras: ',roc_auc_val_keras)"
   ]
  },
  {
   "cell_type": "code",
   "execution_count": null,
   "metadata": {
    "collapsed": true
   },
   "outputs": [],
   "source": []
  }
 ],
 "metadata": {
  "kernelspec": {
   "display_name": "Python 3",
   "language": "python",
   "name": "python3"
  },
  "language_info": {
   "codemirror_mode": {
    "name": "ipython",
    "version": 3
   },
   "file_extension": ".py",
   "mimetype": "text/x-python",
   "name": "python",
   "nbconvert_exporter": "python",
   "pygments_lexer": "ipython3",
   "version": "3.6.1"
  }
 },
 "nbformat": 4,
 "nbformat_minor": 2
}
